{
 "cells": [
  {
   "cell_type": "code",
   "execution_count": 2,
   "metadata": {},
   "outputs": [],
   "source": [
    "import pandas as pd"
   ]
  },
  {
   "cell_type": "code",
   "execution_count": 4,
   "metadata": {},
   "outputs": [
    {
     "data": {
      "text/plain": [
       "DatetimeIndex(['2019-03-01', '2019-03-02', '2019-03-03', '2019-03-04',\n",
       "               '2019-03-05', '2019-03-06'],\n",
       "              dtype='datetime64[ns]', freq='D')"
      ]
     },
     "execution_count": 4,
     "metadata": {},
     "output_type": "execute_result"
    }
   ],
   "source": [
    "dates = pd.date_range('20190301', periods=6)\n",
    "dates"
   ]
  },
  {
   "cell_type": "code",
   "execution_count": 7,
   "metadata": {},
   "outputs": [
    {
     "data": {
      "text/html": [
       "<div>\n",
       "<style scoped>\n",
       "    .dataframe tbody tr th:only-of-type {\n",
       "        vertical-align: middle;\n",
       "    }\n",
       "\n",
       "    .dataframe tbody tr th {\n",
       "        vertical-align: top;\n",
       "    }\n",
       "\n",
       "    .dataframe thead th {\n",
       "        text-align: right;\n",
       "    }\n",
       "</style>\n",
       "<table border=\"1\" class=\"dataframe\">\n",
       "  <thead>\n",
       "    <tr style=\"text-align: right;\">\n",
       "      <th></th>\n",
       "      <th>A</th>\n",
       "      <th>B</th>\n",
       "      <th>C</th>\n",
       "      <th>D</th>\n",
       "    </tr>\n",
       "  </thead>\n",
       "  <tbody>\n",
       "    <tr>\n",
       "      <th>2019-03-01</th>\n",
       "      <td>-0.516544</td>\n",
       "      <td>-1.367220</td>\n",
       "      <td>-0.676360</td>\n",
       "      <td>0.264665</td>\n",
       "    </tr>\n",
       "    <tr>\n",
       "      <th>2019-03-02</th>\n",
       "      <td>0.220002</td>\n",
       "      <td>1.297459</td>\n",
       "      <td>1.506297</td>\n",
       "      <td>0.776434</td>\n",
       "    </tr>\n",
       "    <tr>\n",
       "      <th>2019-03-03</th>\n",
       "      <td>-0.845950</td>\n",
       "      <td>-1.509673</td>\n",
       "      <td>1.220819</td>\n",
       "      <td>-0.232521</td>\n",
       "    </tr>\n",
       "    <tr>\n",
       "      <th>2019-03-04</th>\n",
       "      <td>0.519335</td>\n",
       "      <td>0.323541</td>\n",
       "      <td>-1.014116</td>\n",
       "      <td>-1.003809</td>\n",
       "    </tr>\n",
       "    <tr>\n",
       "      <th>2019-03-05</th>\n",
       "      <td>1.169528</td>\n",
       "      <td>-0.112481</td>\n",
       "      <td>0.883931</td>\n",
       "      <td>-1.101489</td>\n",
       "    </tr>\n",
       "    <tr>\n",
       "      <th>2019-03-06</th>\n",
       "      <td>0.761931</td>\n",
       "      <td>-0.053532</td>\n",
       "      <td>-0.602182</td>\n",
       "      <td>1.027294</td>\n",
       "    </tr>\n",
       "  </tbody>\n",
       "</table>\n",
       "</div>"
      ],
      "text/plain": [
       "                   A         B         C         D\n",
       "2019-03-01 -0.516544 -1.367220 -0.676360  0.264665\n",
       "2019-03-02  0.220002  1.297459  1.506297  0.776434\n",
       "2019-03-03 -0.845950 -1.509673  1.220819 -0.232521\n",
       "2019-03-04  0.519335  0.323541 -1.014116 -1.003809\n",
       "2019-03-05  1.169528 -0.112481  0.883931 -1.101489\n",
       "2019-03-06  0.761931 -0.053532 -0.602182  1.027294"
      ]
     },
     "execution_count": 7,
     "metadata": {},
     "output_type": "execute_result"
    }
   ],
   "source": [
    "import numpy as np\n",
    "df = pd.DataFrame(np.random.randn(6, 4), index=dates, columns=['A', 'B', 'C', 'D'])\n",
    "df"
   ]
  },
  {
   "cell_type": "code",
   "execution_count": 8,
   "metadata": {},
   "outputs": [
    {
     "data": {
      "text/plain": [
       "pandas.core.frame.DataFrame"
      ]
     },
     "execution_count": 8,
     "metadata": {},
     "output_type": "execute_result"
    }
   ],
   "source": [
    "type(df)"
   ]
  },
  {
   "cell_type": "code",
   "execution_count": 9,
   "metadata": {},
   "outputs": [
    {
     "data": {
      "text/plain": [
       "Index(['A', 'B', 'C', 'D'], dtype='object')"
      ]
     },
     "execution_count": 9,
     "metadata": {},
     "output_type": "execute_result"
    }
   ],
   "source": [
    "df.columns"
   ]
  },
  {
   "cell_type": "code",
   "execution_count": 10,
   "metadata": {},
   "outputs": [
    {
     "data": {
      "text/plain": [
       "DatetimeIndex(['2019-03-01', '2019-03-02', '2019-03-03', '2019-03-04',\n",
       "               '2019-03-05', '2019-03-06'],\n",
       "              dtype='datetime64[ns]', freq='D')"
      ]
     },
     "execution_count": 10,
     "metadata": {},
     "output_type": "execute_result"
    }
   ],
   "source": [
    "df.index"
   ]
  },
  {
   "cell_type": "code",
   "execution_count": 11,
   "metadata": {},
   "outputs": [
    {
     "data": {
      "text/plain": [
       "array([[-0.51654396, -1.36721951, -0.67636005,  0.26466501],\n",
       "       [ 0.22000213,  1.29745929,  1.50629745,  0.77643357],\n",
       "       [-0.84595006, -1.50967266,  1.22081924, -0.23252093],\n",
       "       [ 0.51933496,  0.32354054, -1.01411615, -1.00380851],\n",
       "       [ 1.16952832, -0.11248107,  0.88393057, -1.1014894 ],\n",
       "       [ 0.76193091, -0.05353163, -0.60218239,  1.02729397]])"
      ]
     },
     "execution_count": 11,
     "metadata": {},
     "output_type": "execute_result"
    }
   ],
   "source": [
    "df.values"
   ]
  },
  {
   "cell_type": "code",
   "execution_count": 12,
   "metadata": {},
   "outputs": [
    {
     "data": {
      "text/html": [
       "<div>\n",
       "<style scoped>\n",
       "    .dataframe tbody tr th:only-of-type {\n",
       "        vertical-align: middle;\n",
       "    }\n",
       "\n",
       "    .dataframe tbody tr th {\n",
       "        vertical-align: top;\n",
       "    }\n",
       "\n",
       "    .dataframe thead th {\n",
       "        text-align: right;\n",
       "    }\n",
       "</style>\n",
       "<table border=\"1\" class=\"dataframe\">\n",
       "  <thead>\n",
       "    <tr style=\"text-align: right;\">\n",
       "      <th></th>\n",
       "      <th>A</th>\n",
       "      <th>B</th>\n",
       "      <th>C</th>\n",
       "      <th>D</th>\n",
       "    </tr>\n",
       "  </thead>\n",
       "  <tbody>\n",
       "    <tr>\n",
       "      <th>count</th>\n",
       "      <td>6.000000</td>\n",
       "      <td>6.000000</td>\n",
       "      <td>6.000000</td>\n",
       "      <td>6.000000</td>\n",
       "    </tr>\n",
       "    <tr>\n",
       "      <th>mean</th>\n",
       "      <td>0.218050</td>\n",
       "      <td>-0.236984</td>\n",
       "      <td>0.219731</td>\n",
       "      <td>-0.044904</td>\n",
       "    </tr>\n",
       "    <tr>\n",
       "      <th>std</th>\n",
       "      <td>0.769885</td>\n",
       "      <td>1.059720</td>\n",
       "      <td>1.104490</td>\n",
       "      <td>0.893432</td>\n",
       "    </tr>\n",
       "    <tr>\n",
       "      <th>min</th>\n",
       "      <td>-0.845950</td>\n",
       "      <td>-1.509673</td>\n",
       "      <td>-1.014116</td>\n",
       "      <td>-1.101489</td>\n",
       "    </tr>\n",
       "    <tr>\n",
       "      <th>25%</th>\n",
       "      <td>-0.332407</td>\n",
       "      <td>-1.053535</td>\n",
       "      <td>-0.657816</td>\n",
       "      <td>-0.810987</td>\n",
       "    </tr>\n",
       "    <tr>\n",
       "      <th>50%</th>\n",
       "      <td>0.369669</td>\n",
       "      <td>-0.083006</td>\n",
       "      <td>0.140874</td>\n",
       "      <td>0.016072</td>\n",
       "    </tr>\n",
       "    <tr>\n",
       "      <th>75%</th>\n",
       "      <td>0.701282</td>\n",
       "      <td>0.229272</td>\n",
       "      <td>1.136597</td>\n",
       "      <td>0.648491</td>\n",
       "    </tr>\n",
       "    <tr>\n",
       "      <th>max</th>\n",
       "      <td>1.169528</td>\n",
       "      <td>1.297459</td>\n",
       "      <td>1.506297</td>\n",
       "      <td>1.027294</td>\n",
       "    </tr>\n",
       "  </tbody>\n",
       "</table>\n",
       "</div>"
      ],
      "text/plain": [
       "              A         B         C         D\n",
       "count  6.000000  6.000000  6.000000  6.000000\n",
       "mean   0.218050 -0.236984  0.219731 -0.044904\n",
       "std    0.769885  1.059720  1.104490  0.893432\n",
       "min   -0.845950 -1.509673 -1.014116 -1.101489\n",
       "25%   -0.332407 -1.053535 -0.657816 -0.810987\n",
       "50%    0.369669 -0.083006  0.140874  0.016072\n",
       "75%    0.701282  0.229272  1.136597  0.648491\n",
       "max    1.169528  1.297459  1.506297  1.027294"
      ]
     },
     "execution_count": 12,
     "metadata": {},
     "output_type": "execute_result"
    }
   ],
   "source": [
    "df.describe()"
   ]
  },
  {
   "cell_type": "code",
   "execution_count": 13,
   "metadata": {},
   "outputs": [
    {
     "data": {
      "text/html": [
       "<div>\n",
       "<style scoped>\n",
       "    .dataframe tbody tr th:only-of-type {\n",
       "        vertical-align: middle;\n",
       "    }\n",
       "\n",
       "    .dataframe tbody tr th {\n",
       "        vertical-align: top;\n",
       "    }\n",
       "\n",
       "    .dataframe thead th {\n",
       "        text-align: right;\n",
       "    }\n",
       "</style>\n",
       "<table border=\"1\" class=\"dataframe\">\n",
       "  <thead>\n",
       "    <tr style=\"text-align: right;\">\n",
       "      <th></th>\n",
       "      <th>A</th>\n",
       "      <th>B</th>\n",
       "      <th>C</th>\n",
       "      <th>D</th>\n",
       "    </tr>\n",
       "  </thead>\n",
       "  <tbody>\n",
       "    <tr>\n",
       "      <th>2019-03-03</th>\n",
       "      <td>-0.845950</td>\n",
       "      <td>-1.509673</td>\n",
       "      <td>1.220819</td>\n",
       "      <td>-0.232521</td>\n",
       "    </tr>\n",
       "    <tr>\n",
       "      <th>2019-03-01</th>\n",
       "      <td>-0.516544</td>\n",
       "      <td>-1.367220</td>\n",
       "      <td>-0.676360</td>\n",
       "      <td>0.264665</td>\n",
       "    </tr>\n",
       "    <tr>\n",
       "      <th>2019-03-02</th>\n",
       "      <td>0.220002</td>\n",
       "      <td>1.297459</td>\n",
       "      <td>1.506297</td>\n",
       "      <td>0.776434</td>\n",
       "    </tr>\n",
       "    <tr>\n",
       "      <th>2019-03-04</th>\n",
       "      <td>0.519335</td>\n",
       "      <td>0.323541</td>\n",
       "      <td>-1.014116</td>\n",
       "      <td>-1.003809</td>\n",
       "    </tr>\n",
       "    <tr>\n",
       "      <th>2019-03-06</th>\n",
       "      <td>0.761931</td>\n",
       "      <td>-0.053532</td>\n",
       "      <td>-0.602182</td>\n",
       "      <td>1.027294</td>\n",
       "    </tr>\n",
       "    <tr>\n",
       "      <th>2019-03-05</th>\n",
       "      <td>1.169528</td>\n",
       "      <td>-0.112481</td>\n",
       "      <td>0.883931</td>\n",
       "      <td>-1.101489</td>\n",
       "    </tr>\n",
       "  </tbody>\n",
       "</table>\n",
       "</div>"
      ],
      "text/plain": [
       "                   A         B         C         D\n",
       "2019-03-03 -0.845950 -1.509673  1.220819 -0.232521\n",
       "2019-03-01 -0.516544 -1.367220 -0.676360  0.264665\n",
       "2019-03-02  0.220002  1.297459  1.506297  0.776434\n",
       "2019-03-04  0.519335  0.323541 -1.014116 -1.003809\n",
       "2019-03-06  0.761931 -0.053532 -0.602182  1.027294\n",
       "2019-03-05  1.169528 -0.112481  0.883931 -1.101489"
      ]
     },
     "execution_count": 13,
     "metadata": {},
     "output_type": "execute_result"
    }
   ],
   "source": [
    "df.sort_values(by=\"A\")"
   ]
  },
  {
   "cell_type": "code",
   "execution_count": 14,
   "metadata": {},
   "outputs": [
    {
     "data": {
      "text/html": [
       "<div>\n",
       "<style scoped>\n",
       "    .dataframe tbody tr th:only-of-type {\n",
       "        vertical-align: middle;\n",
       "    }\n",
       "\n",
       "    .dataframe tbody tr th {\n",
       "        vertical-align: top;\n",
       "    }\n",
       "\n",
       "    .dataframe thead th {\n",
       "        text-align: right;\n",
       "    }\n",
       "</style>\n",
       "<table border=\"1\" class=\"dataframe\">\n",
       "  <thead>\n",
       "    <tr style=\"text-align: right;\">\n",
       "      <th></th>\n",
       "      <th>A</th>\n",
       "      <th>B</th>\n",
       "      <th>C</th>\n",
       "      <th>D</th>\n",
       "    </tr>\n",
       "  </thead>\n",
       "  <tbody>\n",
       "    <tr>\n",
       "      <th>2019-03-05</th>\n",
       "      <td>1.169528</td>\n",
       "      <td>-0.112481</td>\n",
       "      <td>0.883931</td>\n",
       "      <td>-1.101489</td>\n",
       "    </tr>\n",
       "    <tr>\n",
       "      <th>2019-03-06</th>\n",
       "      <td>0.761931</td>\n",
       "      <td>-0.053532</td>\n",
       "      <td>-0.602182</td>\n",
       "      <td>1.027294</td>\n",
       "    </tr>\n",
       "    <tr>\n",
       "      <th>2019-03-04</th>\n",
       "      <td>0.519335</td>\n",
       "      <td>0.323541</td>\n",
       "      <td>-1.014116</td>\n",
       "      <td>-1.003809</td>\n",
       "    </tr>\n",
       "    <tr>\n",
       "      <th>2019-03-02</th>\n",
       "      <td>0.220002</td>\n",
       "      <td>1.297459</td>\n",
       "      <td>1.506297</td>\n",
       "      <td>0.776434</td>\n",
       "    </tr>\n",
       "    <tr>\n",
       "      <th>2019-03-01</th>\n",
       "      <td>-0.516544</td>\n",
       "      <td>-1.367220</td>\n",
       "      <td>-0.676360</td>\n",
       "      <td>0.264665</td>\n",
       "    </tr>\n",
       "    <tr>\n",
       "      <th>2019-03-03</th>\n",
       "      <td>-0.845950</td>\n",
       "      <td>-1.509673</td>\n",
       "      <td>1.220819</td>\n",
       "      <td>-0.232521</td>\n",
       "    </tr>\n",
       "  </tbody>\n",
       "</table>\n",
       "</div>"
      ],
      "text/plain": [
       "                   A         B         C         D\n",
       "2019-03-05  1.169528 -0.112481  0.883931 -1.101489\n",
       "2019-03-06  0.761931 -0.053532 -0.602182  1.027294\n",
       "2019-03-04  0.519335  0.323541 -1.014116 -1.003809\n",
       "2019-03-02  0.220002  1.297459  1.506297  0.776434\n",
       "2019-03-01 -0.516544 -1.367220 -0.676360  0.264665\n",
       "2019-03-03 -0.845950 -1.509673  1.220819 -0.232521"
      ]
     },
     "execution_count": 14,
     "metadata": {},
     "output_type": "execute_result"
    }
   ],
   "source": [
    "df.sort_values(by=\"A\", ascending=False)"
   ]
  },
  {
   "cell_type": "markdown",
   "metadata": {},
   "source": [
    "---"
   ]
  },
  {
   "cell_type": "code",
   "execution_count": 15,
   "metadata": {},
   "outputs": [
    {
     "data": {
      "text/plain": [
       "2019-03-01   -0.516544\n",
       "2019-03-02    0.220002\n",
       "2019-03-03   -0.845950\n",
       "2019-03-04    0.519335\n",
       "2019-03-05    1.169528\n",
       "2019-03-06    0.761931\n",
       "Freq: D, Name: A, dtype: float64"
      ]
     },
     "execution_count": 15,
     "metadata": {},
     "output_type": "execute_result"
    }
   ],
   "source": [
    "df['A']"
   ]
  },
  {
   "cell_type": "code",
   "execution_count": 16,
   "metadata": {},
   "outputs": [
    {
     "data": {
      "text/plain": [
       "pandas.core.series.Series"
      ]
     },
     "execution_count": 16,
     "metadata": {},
     "output_type": "execute_result"
    }
   ],
   "source": [
    "type(df['A'])"
   ]
  },
  {
   "cell_type": "code",
   "execution_count": 17,
   "metadata": {},
   "outputs": [
    {
     "data": {
      "text/html": [
       "<div>\n",
       "<style scoped>\n",
       "    .dataframe tbody tr th:only-of-type {\n",
       "        vertical-align: middle;\n",
       "    }\n",
       "\n",
       "    .dataframe tbody tr th {\n",
       "        vertical-align: top;\n",
       "    }\n",
       "\n",
       "    .dataframe thead th {\n",
       "        text-align: right;\n",
       "    }\n",
       "</style>\n",
       "<table border=\"1\" class=\"dataframe\">\n",
       "  <thead>\n",
       "    <tr style=\"text-align: right;\">\n",
       "      <th></th>\n",
       "      <th>A</th>\n",
       "      <th>B</th>\n",
       "      <th>C</th>\n",
       "      <th>D</th>\n",
       "    </tr>\n",
       "  </thead>\n",
       "  <tbody>\n",
       "    <tr>\n",
       "      <th>2019-03-01</th>\n",
       "      <td>-0.516544</td>\n",
       "      <td>-1.367220</td>\n",
       "      <td>-0.676360</td>\n",
       "      <td>0.264665</td>\n",
       "    </tr>\n",
       "    <tr>\n",
       "      <th>2019-03-02</th>\n",
       "      <td>0.220002</td>\n",
       "      <td>1.297459</td>\n",
       "      <td>1.506297</td>\n",
       "      <td>0.776434</td>\n",
       "    </tr>\n",
       "    <tr>\n",
       "      <th>2019-03-03</th>\n",
       "      <td>-0.845950</td>\n",
       "      <td>-1.509673</td>\n",
       "      <td>1.220819</td>\n",
       "      <td>-0.232521</td>\n",
       "    </tr>\n",
       "  </tbody>\n",
       "</table>\n",
       "</div>"
      ],
      "text/plain": [
       "                   A         B         C         D\n",
       "2019-03-01 -0.516544 -1.367220 -0.676360  0.264665\n",
       "2019-03-02  0.220002  1.297459  1.506297  0.776434\n",
       "2019-03-03 -0.845950 -1.509673  1.220819 -0.232521"
      ]
     },
     "execution_count": 17,
     "metadata": {},
     "output_type": "execute_result"
    }
   ],
   "source": [
    "df[0:3]"
   ]
  },
  {
   "cell_type": "code",
   "execution_count": 18,
   "metadata": {},
   "outputs": [
    {
     "data": {
      "text/plain": [
       "A   -0.516544\n",
       "B   -1.367220\n",
       "C   -0.676360\n",
       "D    0.264665\n",
       "Name: 2019-03-01 00:00:00, dtype: float64"
      ]
     },
     "execution_count": 18,
     "metadata": {},
     "output_type": "execute_result"
    }
   ],
   "source": [
    "df.loc['2019-03-01']"
   ]
  },
  {
   "cell_type": "code",
   "execution_count": 19,
   "metadata": {},
   "outputs": [
    {
     "data": {
      "text/plain": [
       "A   -0.516544\n",
       "Name: 2019-03-01 00:00:00, dtype: float64"
      ]
     },
     "execution_count": 19,
     "metadata": {},
     "output_type": "execute_result"
    }
   ],
   "source": [
    "df.loc['2019-03-01', ['A']]"
   ]
  },
  {
   "cell_type": "code",
   "execution_count": 20,
   "metadata": {},
   "outputs": [
    {
     "data": {
      "text/plain": [
       "A   -0.516544\n",
       "B   -1.367220\n",
       "Name: 2019-03-01 00:00:00, dtype: float64"
      ]
     },
     "execution_count": 20,
     "metadata": {},
     "output_type": "execute_result"
    }
   ],
   "source": [
    "df.loc['2019-03-01', ['A', 'B']]"
   ]
  },
  {
   "cell_type": "code",
   "execution_count": 21,
   "metadata": {},
   "outputs": [
    {
     "data": {
      "text/html": [
       "<div>\n",
       "<style scoped>\n",
       "    .dataframe tbody tr th:only-of-type {\n",
       "        vertical-align: middle;\n",
       "    }\n",
       "\n",
       "    .dataframe tbody tr th {\n",
       "        vertical-align: top;\n",
       "    }\n",
       "\n",
       "    .dataframe thead th {\n",
       "        text-align: right;\n",
       "    }\n",
       "</style>\n",
       "<table border=\"1\" class=\"dataframe\">\n",
       "  <thead>\n",
       "    <tr style=\"text-align: right;\">\n",
       "      <th></th>\n",
       "      <th>A</th>\n",
       "      <th>B</th>\n",
       "    </tr>\n",
       "  </thead>\n",
       "  <tbody>\n",
       "    <tr>\n",
       "      <th>2019-03-01</th>\n",
       "      <td>-0.516544</td>\n",
       "      <td>-1.367220</td>\n",
       "    </tr>\n",
       "    <tr>\n",
       "      <th>2019-03-02</th>\n",
       "      <td>0.220002</td>\n",
       "      <td>1.297459</td>\n",
       "    </tr>\n",
       "  </tbody>\n",
       "</table>\n",
       "</div>"
      ],
      "text/plain": [
       "                   A         B\n",
       "2019-03-01 -0.516544 -1.367220\n",
       "2019-03-02  0.220002  1.297459"
      ]
     },
     "execution_count": 21,
     "metadata": {},
     "output_type": "execute_result"
    }
   ],
   "source": [
    "df.loc['2019-03-01':'2019-03-02', ['A', 'B']]"
   ]
  },
  {
   "cell_type": "code",
   "execution_count": 22,
   "metadata": {},
   "outputs": [
    {
     "data": {
      "text/html": [
       "<div>\n",
       "<style scoped>\n",
       "    .dataframe tbody tr th:only-of-type {\n",
       "        vertical-align: middle;\n",
       "    }\n",
       "\n",
       "    .dataframe tbody tr th {\n",
       "        vertical-align: top;\n",
       "    }\n",
       "\n",
       "    .dataframe thead th {\n",
       "        text-align: right;\n",
       "    }\n",
       "</style>\n",
       "<table border=\"1\" class=\"dataframe\">\n",
       "  <thead>\n",
       "    <tr style=\"text-align: right;\">\n",
       "      <th></th>\n",
       "      <th>A</th>\n",
       "      <th>B</th>\n",
       "    </tr>\n",
       "  </thead>\n",
       "  <tbody>\n",
       "    <tr>\n",
       "      <th>2019-03-01</th>\n",
       "      <td>-0.516544</td>\n",
       "      <td>-1.367220</td>\n",
       "    </tr>\n",
       "    <tr>\n",
       "      <th>2019-03-02</th>\n",
       "      <td>0.220002</td>\n",
       "      <td>1.297459</td>\n",
       "    </tr>\n",
       "    <tr>\n",
       "      <th>2019-03-03</th>\n",
       "      <td>-0.845950</td>\n",
       "      <td>-1.509673</td>\n",
       "    </tr>\n",
       "    <tr>\n",
       "      <th>2019-03-04</th>\n",
       "      <td>0.519335</td>\n",
       "      <td>0.323541</td>\n",
       "    </tr>\n",
       "    <tr>\n",
       "      <th>2019-03-05</th>\n",
       "      <td>1.169528</td>\n",
       "      <td>-0.112481</td>\n",
       "    </tr>\n",
       "    <tr>\n",
       "      <th>2019-03-06</th>\n",
       "      <td>0.761931</td>\n",
       "      <td>-0.053532</td>\n",
       "    </tr>\n",
       "  </tbody>\n",
       "</table>\n",
       "</div>"
      ],
      "text/plain": [
       "                   A         B\n",
       "2019-03-01 -0.516544 -1.367220\n",
       "2019-03-02  0.220002  1.297459\n",
       "2019-03-03 -0.845950 -1.509673\n",
       "2019-03-04  0.519335  0.323541\n",
       "2019-03-05  1.169528 -0.112481\n",
       "2019-03-06  0.761931 -0.053532"
      ]
     },
     "execution_count": 22,
     "metadata": {},
     "output_type": "execute_result"
    }
   ],
   "source": [
    "df.loc[:, ['A', 'B']]"
   ]
  },
  {
   "cell_type": "code",
   "execution_count": 23,
   "metadata": {},
   "outputs": [
    {
     "data": {
      "text/html": [
       "<div>\n",
       "<style scoped>\n",
       "    .dataframe tbody tr th:only-of-type {\n",
       "        vertical-align: middle;\n",
       "    }\n",
       "\n",
       "    .dataframe tbody tr th {\n",
       "        vertical-align: top;\n",
       "    }\n",
       "\n",
       "    .dataframe thead th {\n",
       "        text-align: right;\n",
       "    }\n",
       "</style>\n",
       "<table border=\"1\" class=\"dataframe\">\n",
       "  <thead>\n",
       "    <tr style=\"text-align: right;\">\n",
       "      <th></th>\n",
       "      <th>A</th>\n",
       "      <th>B</th>\n",
       "      <th>C</th>\n",
       "      <th>D</th>\n",
       "    </tr>\n",
       "  </thead>\n",
       "  <tbody>\n",
       "    <tr>\n",
       "      <th>2019-03-01</th>\n",
       "      <td>-0.516544</td>\n",
       "      <td>-1.367220</td>\n",
       "      <td>-0.676360</td>\n",
       "      <td>0.264665</td>\n",
       "    </tr>\n",
       "    <tr>\n",
       "      <th>2019-03-02</th>\n",
       "      <td>0.220002</td>\n",
       "      <td>1.297459</td>\n",
       "      <td>1.506297</td>\n",
       "      <td>0.776434</td>\n",
       "    </tr>\n",
       "  </tbody>\n",
       "</table>\n",
       "</div>"
      ],
      "text/plain": [
       "                   A         B         C         D\n",
       "2019-03-01 -0.516544 -1.367220 -0.676360  0.264665\n",
       "2019-03-02  0.220002  1.297459  1.506297  0.776434"
      ]
     },
     "execution_count": 23,
     "metadata": {},
     "output_type": "execute_result"
    }
   ],
   "source": [
    "df.iloc[0:2]"
   ]
  },
  {
   "cell_type": "code",
   "execution_count": 24,
   "metadata": {},
   "outputs": [
    {
     "data": {
      "text/html": [
       "<div>\n",
       "<style scoped>\n",
       "    .dataframe tbody tr th:only-of-type {\n",
       "        vertical-align: middle;\n",
       "    }\n",
       "\n",
       "    .dataframe tbody tr th {\n",
       "        vertical-align: top;\n",
       "    }\n",
       "\n",
       "    .dataframe thead th {\n",
       "        text-align: right;\n",
       "    }\n",
       "</style>\n",
       "<table border=\"1\" class=\"dataframe\">\n",
       "  <thead>\n",
       "    <tr style=\"text-align: right;\">\n",
       "      <th></th>\n",
       "      <th>A</th>\n",
       "      <th>B</th>\n",
       "    </tr>\n",
       "  </thead>\n",
       "  <tbody>\n",
       "    <tr>\n",
       "      <th>2019-03-01</th>\n",
       "      <td>-0.516544</td>\n",
       "      <td>-1.367220</td>\n",
       "    </tr>\n",
       "    <tr>\n",
       "      <th>2019-03-02</th>\n",
       "      <td>0.220002</td>\n",
       "      <td>1.297459</td>\n",
       "    </tr>\n",
       "  </tbody>\n",
       "</table>\n",
       "</div>"
      ],
      "text/plain": [
       "                   A         B\n",
       "2019-03-01 -0.516544 -1.367220\n",
       "2019-03-02  0.220002  1.297459"
      ]
     },
     "execution_count": 24,
     "metadata": {},
     "output_type": "execute_result"
    }
   ],
   "source": [
    "df.iloc[0:2, 0:2]"
   ]
  },
  {
   "cell_type": "code",
   "execution_count": 25,
   "metadata": {},
   "outputs": [
    {
     "data": {
      "text/html": [
       "<div>\n",
       "<style scoped>\n",
       "    .dataframe tbody tr th:only-of-type {\n",
       "        vertical-align: middle;\n",
       "    }\n",
       "\n",
       "    .dataframe tbody tr th {\n",
       "        vertical-align: top;\n",
       "    }\n",
       "\n",
       "    .dataframe thead th {\n",
       "        text-align: right;\n",
       "    }\n",
       "</style>\n",
       "<table border=\"1\" class=\"dataframe\">\n",
       "  <thead>\n",
       "    <tr style=\"text-align: right;\">\n",
       "      <th></th>\n",
       "      <th>A</th>\n",
       "      <th>B</th>\n",
       "    </tr>\n",
       "  </thead>\n",
       "  <tbody>\n",
       "    <tr>\n",
       "      <th>2019-03-01</th>\n",
       "      <td>-0.516544</td>\n",
       "      <td>-1.367220</td>\n",
       "    </tr>\n",
       "    <tr>\n",
       "      <th>2019-03-02</th>\n",
       "      <td>0.220002</td>\n",
       "      <td>1.297459</td>\n",
       "    </tr>\n",
       "    <tr>\n",
       "      <th>2019-03-04</th>\n",
       "      <td>0.519335</td>\n",
       "      <td>0.323541</td>\n",
       "    </tr>\n",
       "  </tbody>\n",
       "</table>\n",
       "</div>"
      ],
      "text/plain": [
       "                   A         B\n",
       "2019-03-01 -0.516544 -1.367220\n",
       "2019-03-02  0.220002  1.297459\n",
       "2019-03-04  0.519335  0.323541"
      ]
     },
     "execution_count": 25,
     "metadata": {},
     "output_type": "execute_result"
    }
   ],
   "source": [
    "df.iloc[[0, 1, 3], 0:2]"
   ]
  },
  {
   "cell_type": "code",
   "execution_count": 26,
   "metadata": {},
   "outputs": [
    {
     "data": {
      "text/html": [
       "<div>\n",
       "<style scoped>\n",
       "    .dataframe tbody tr th:only-of-type {\n",
       "        vertical-align: middle;\n",
       "    }\n",
       "\n",
       "    .dataframe tbody tr th {\n",
       "        vertical-align: top;\n",
       "    }\n",
       "\n",
       "    .dataframe thead th {\n",
       "        text-align: right;\n",
       "    }\n",
       "</style>\n",
       "<table border=\"1\" class=\"dataframe\">\n",
       "  <thead>\n",
       "    <tr style=\"text-align: right;\">\n",
       "      <th></th>\n",
       "      <th>A</th>\n",
       "      <th>B</th>\n",
       "      <th>C</th>\n",
       "      <th>D</th>\n",
       "    </tr>\n",
       "  </thead>\n",
       "  <tbody>\n",
       "    <tr>\n",
       "      <th>2019-03-01</th>\n",
       "      <td>-0.516544</td>\n",
       "      <td>-1.367220</td>\n",
       "      <td>-0.676360</td>\n",
       "      <td>0.264665</td>\n",
       "    </tr>\n",
       "    <tr>\n",
       "      <th>2019-03-02</th>\n",
       "      <td>0.220002</td>\n",
       "      <td>1.297459</td>\n",
       "      <td>1.506297</td>\n",
       "      <td>0.776434</td>\n",
       "    </tr>\n",
       "    <tr>\n",
       "      <th>2019-03-04</th>\n",
       "      <td>0.519335</td>\n",
       "      <td>0.323541</td>\n",
       "      <td>-1.014116</td>\n",
       "      <td>-1.003809</td>\n",
       "    </tr>\n",
       "  </tbody>\n",
       "</table>\n",
       "</div>"
      ],
      "text/plain": [
       "                   A         B         C         D\n",
       "2019-03-01 -0.516544 -1.367220 -0.676360  0.264665\n",
       "2019-03-02  0.220002  1.297459  1.506297  0.776434\n",
       "2019-03-04  0.519335  0.323541 -1.014116 -1.003809"
      ]
     },
     "execution_count": 26,
     "metadata": {},
     "output_type": "execute_result"
    }
   ],
   "source": [
    "df.iloc[[0, 1, 3]]"
   ]
  },
  {
   "cell_type": "code",
   "execution_count": 27,
   "metadata": {},
   "outputs": [
    {
     "data": {
      "text/plain": [
       "2019-03-01    False\n",
       "2019-03-02     True\n",
       "2019-03-03    False\n",
       "2019-03-04     True\n",
       "2019-03-05     True\n",
       "2019-03-06     True\n",
       "Freq: D, Name: A, dtype: bool"
      ]
     },
     "execution_count": 27,
     "metadata": {},
     "output_type": "execute_result"
    }
   ],
   "source": [
    "df['A'] > 0"
   ]
  },
  {
   "cell_type": "code",
   "execution_count": 28,
   "metadata": {},
   "outputs": [
    {
     "data": {
      "text/html": [
       "<div>\n",
       "<style scoped>\n",
       "    .dataframe tbody tr th:only-of-type {\n",
       "        vertical-align: middle;\n",
       "    }\n",
       "\n",
       "    .dataframe tbody tr th {\n",
       "        vertical-align: top;\n",
       "    }\n",
       "\n",
       "    .dataframe thead th {\n",
       "        text-align: right;\n",
       "    }\n",
       "</style>\n",
       "<table border=\"1\" class=\"dataframe\">\n",
       "  <thead>\n",
       "    <tr style=\"text-align: right;\">\n",
       "      <th></th>\n",
       "      <th>A</th>\n",
       "      <th>B</th>\n",
       "      <th>C</th>\n",
       "      <th>D</th>\n",
       "    </tr>\n",
       "  </thead>\n",
       "  <tbody>\n",
       "    <tr>\n",
       "      <th>2019-03-02</th>\n",
       "      <td>0.220002</td>\n",
       "      <td>1.297459</td>\n",
       "      <td>1.506297</td>\n",
       "      <td>0.776434</td>\n",
       "    </tr>\n",
       "    <tr>\n",
       "      <th>2019-03-04</th>\n",
       "      <td>0.519335</td>\n",
       "      <td>0.323541</td>\n",
       "      <td>-1.014116</td>\n",
       "      <td>-1.003809</td>\n",
       "    </tr>\n",
       "    <tr>\n",
       "      <th>2019-03-05</th>\n",
       "      <td>1.169528</td>\n",
       "      <td>-0.112481</td>\n",
       "      <td>0.883931</td>\n",
       "      <td>-1.101489</td>\n",
       "    </tr>\n",
       "    <tr>\n",
       "      <th>2019-03-06</th>\n",
       "      <td>0.761931</td>\n",
       "      <td>-0.053532</td>\n",
       "      <td>-0.602182</td>\n",
       "      <td>1.027294</td>\n",
       "    </tr>\n",
       "  </tbody>\n",
       "</table>\n",
       "</div>"
      ],
      "text/plain": [
       "                   A         B         C         D\n",
       "2019-03-02  0.220002  1.297459  1.506297  0.776434\n",
       "2019-03-04  0.519335  0.323541 -1.014116 -1.003809\n",
       "2019-03-05  1.169528 -0.112481  0.883931 -1.101489\n",
       "2019-03-06  0.761931 -0.053532 -0.602182  1.027294"
      ]
     },
     "execution_count": 28,
     "metadata": {},
     "output_type": "execute_result"
    }
   ],
   "source": [
    "df[df['A'] > 0]"
   ]
  },
  {
   "cell_type": "code",
   "execution_count": 29,
   "metadata": {},
   "outputs": [
    {
     "data": {
      "text/html": [
       "<div>\n",
       "<style scoped>\n",
       "    .dataframe tbody tr th:only-of-type {\n",
       "        vertical-align: middle;\n",
       "    }\n",
       "\n",
       "    .dataframe tbody tr th {\n",
       "        vertical-align: top;\n",
       "    }\n",
       "\n",
       "    .dataframe thead th {\n",
       "        text-align: right;\n",
       "    }\n",
       "</style>\n",
       "<table border=\"1\" class=\"dataframe\">\n",
       "  <thead>\n",
       "    <tr style=\"text-align: right;\">\n",
       "      <th></th>\n",
       "      <th>A</th>\n",
       "      <th>B</th>\n",
       "      <th>C</th>\n",
       "      <th>D</th>\n",
       "    </tr>\n",
       "  </thead>\n",
       "  <tbody>\n",
       "    <tr>\n",
       "      <th>2019-03-01</th>\n",
       "      <td>False</td>\n",
       "      <td>False</td>\n",
       "      <td>False</td>\n",
       "      <td>True</td>\n",
       "    </tr>\n",
       "    <tr>\n",
       "      <th>2019-03-02</th>\n",
       "      <td>True</td>\n",
       "      <td>True</td>\n",
       "      <td>True</td>\n",
       "      <td>True</td>\n",
       "    </tr>\n",
       "    <tr>\n",
       "      <th>2019-03-03</th>\n",
       "      <td>False</td>\n",
       "      <td>False</td>\n",
       "      <td>True</td>\n",
       "      <td>False</td>\n",
       "    </tr>\n",
       "    <tr>\n",
       "      <th>2019-03-04</th>\n",
       "      <td>True</td>\n",
       "      <td>True</td>\n",
       "      <td>False</td>\n",
       "      <td>False</td>\n",
       "    </tr>\n",
       "    <tr>\n",
       "      <th>2019-03-05</th>\n",
       "      <td>True</td>\n",
       "      <td>False</td>\n",
       "      <td>True</td>\n",
       "      <td>False</td>\n",
       "    </tr>\n",
       "    <tr>\n",
       "      <th>2019-03-06</th>\n",
       "      <td>True</td>\n",
       "      <td>False</td>\n",
       "      <td>False</td>\n",
       "      <td>True</td>\n",
       "    </tr>\n",
       "  </tbody>\n",
       "</table>\n",
       "</div>"
      ],
      "text/plain": [
       "                A      B      C      D\n",
       "2019-03-01  False  False  False   True\n",
       "2019-03-02   True   True   True   True\n",
       "2019-03-03  False  False   True  False\n",
       "2019-03-04   True   True  False  False\n",
       "2019-03-05   True  False   True  False\n",
       "2019-03-06   True  False  False   True"
      ]
     },
     "execution_count": 29,
     "metadata": {},
     "output_type": "execute_result"
    }
   ],
   "source": [
    "df > 0"
   ]
  },
  {
   "cell_type": "code",
   "execution_count": 30,
   "metadata": {},
   "outputs": [
    {
     "data": {
      "text/html": [
       "<div>\n",
       "<style scoped>\n",
       "    .dataframe tbody tr th:only-of-type {\n",
       "        vertical-align: middle;\n",
       "    }\n",
       "\n",
       "    .dataframe tbody tr th {\n",
       "        vertical-align: top;\n",
       "    }\n",
       "\n",
       "    .dataframe thead th {\n",
       "        text-align: right;\n",
       "    }\n",
       "</style>\n",
       "<table border=\"1\" class=\"dataframe\">\n",
       "  <thead>\n",
       "    <tr style=\"text-align: right;\">\n",
       "      <th></th>\n",
       "      <th>A</th>\n",
       "      <th>B</th>\n",
       "      <th>C</th>\n",
       "      <th>D</th>\n",
       "    </tr>\n",
       "  </thead>\n",
       "  <tbody>\n",
       "    <tr>\n",
       "      <th>2019-03-01</th>\n",
       "      <td>NaN</td>\n",
       "      <td>NaN</td>\n",
       "      <td>NaN</td>\n",
       "      <td>0.264665</td>\n",
       "    </tr>\n",
       "    <tr>\n",
       "      <th>2019-03-02</th>\n",
       "      <td>0.220002</td>\n",
       "      <td>1.297459</td>\n",
       "      <td>1.506297</td>\n",
       "      <td>0.776434</td>\n",
       "    </tr>\n",
       "    <tr>\n",
       "      <th>2019-03-03</th>\n",
       "      <td>NaN</td>\n",
       "      <td>NaN</td>\n",
       "      <td>1.220819</td>\n",
       "      <td>NaN</td>\n",
       "    </tr>\n",
       "    <tr>\n",
       "      <th>2019-03-04</th>\n",
       "      <td>0.519335</td>\n",
       "      <td>0.323541</td>\n",
       "      <td>NaN</td>\n",
       "      <td>NaN</td>\n",
       "    </tr>\n",
       "    <tr>\n",
       "      <th>2019-03-05</th>\n",
       "      <td>1.169528</td>\n",
       "      <td>NaN</td>\n",
       "      <td>0.883931</td>\n",
       "      <td>NaN</td>\n",
       "    </tr>\n",
       "    <tr>\n",
       "      <th>2019-03-06</th>\n",
       "      <td>0.761931</td>\n",
       "      <td>NaN</td>\n",
       "      <td>NaN</td>\n",
       "      <td>1.027294</td>\n",
       "    </tr>\n",
       "  </tbody>\n",
       "</table>\n",
       "</div>"
      ],
      "text/plain": [
       "                   A         B         C         D\n",
       "2019-03-01       NaN       NaN       NaN  0.264665\n",
       "2019-03-02  0.220002  1.297459  1.506297  0.776434\n",
       "2019-03-03       NaN       NaN  1.220819       NaN\n",
       "2019-03-04  0.519335  0.323541       NaN       NaN\n",
       "2019-03-05  1.169528       NaN  0.883931       NaN\n",
       "2019-03-06  0.761931       NaN       NaN  1.027294"
      ]
     },
     "execution_count": 30,
     "metadata": {},
     "output_type": "execute_result"
    }
   ],
   "source": [
    "df[df > 0]"
   ]
  },
  {
   "cell_type": "code",
   "execution_count": 35,
   "metadata": {},
   "outputs": [
    {
     "data": {
      "text/html": [
       "<div>\n",
       "<style scoped>\n",
       "    .dataframe tbody tr th:only-of-type {\n",
       "        vertical-align: middle;\n",
       "    }\n",
       "\n",
       "    .dataframe tbody tr th {\n",
       "        vertical-align: top;\n",
       "    }\n",
       "\n",
       "    .dataframe thead th {\n",
       "        text-align: right;\n",
       "    }\n",
       "</style>\n",
       "<table border=\"1\" class=\"dataframe\">\n",
       "  <thead>\n",
       "    <tr style=\"text-align: right;\">\n",
       "      <th></th>\n",
       "      <th>A</th>\n",
       "      <th>C</th>\n",
       "      <th>D</th>\n",
       "      <th>B</th>\n",
       "    </tr>\n",
       "  </thead>\n",
       "  <tbody>\n",
       "    <tr>\n",
       "      <th>2019-03-01</th>\n",
       "      <td>-0.516544</td>\n",
       "      <td>-0.676360</td>\n",
       "      <td>0.264665</td>\n",
       "      <td>-1.367220</td>\n",
       "    </tr>\n",
       "    <tr>\n",
       "      <th>2019-03-02</th>\n",
       "      <td>0.220002</td>\n",
       "      <td>1.506297</td>\n",
       "      <td>0.776434</td>\n",
       "      <td>1.297459</td>\n",
       "    </tr>\n",
       "    <tr>\n",
       "      <th>2019-03-03</th>\n",
       "      <td>-0.845950</td>\n",
       "      <td>1.220819</td>\n",
       "      <td>-0.232521</td>\n",
       "      <td>-1.509673</td>\n",
       "    </tr>\n",
       "    <tr>\n",
       "      <th>2019-03-04</th>\n",
       "      <td>0.519335</td>\n",
       "      <td>-1.014116</td>\n",
       "      <td>-1.003809</td>\n",
       "      <td>0.323541</td>\n",
       "    </tr>\n",
       "    <tr>\n",
       "      <th>2019-03-05</th>\n",
       "      <td>1.169528</td>\n",
       "      <td>0.883931</td>\n",
       "      <td>-1.101489</td>\n",
       "      <td>-0.112481</td>\n",
       "    </tr>\n",
       "    <tr>\n",
       "      <th>2019-03-06</th>\n",
       "      <td>0.761931</td>\n",
       "      <td>-0.602182</td>\n",
       "      <td>1.027294</td>\n",
       "      <td>-0.053532</td>\n",
       "    </tr>\n",
       "  </tbody>\n",
       "</table>\n",
       "</div>"
      ],
      "text/plain": [
       "                   A         C         D         B\n",
       "2019-03-01 -0.516544 -0.676360  0.264665 -1.367220\n",
       "2019-03-02  0.220002  1.506297  0.776434  1.297459\n",
       "2019-03-03 -0.845950  1.220819 -0.232521 -1.509673\n",
       "2019-03-04  0.519335 -1.014116 -1.003809  0.323541\n",
       "2019-03-05  1.169528  0.883931 -1.101489 -0.112481\n",
       "2019-03-06  0.761931 -0.602182  1.027294 -0.053532"
      ]
     },
     "execution_count": 35,
     "metadata": {},
     "output_type": "execute_result"
    }
   ],
   "source": [
    "df2 = pd.DataFrame(df, columns=['A', 'C', 'D', 'B'])\n",
    "df2"
   ]
  },
  {
   "cell_type": "code",
   "execution_count": 36,
   "metadata": {},
   "outputs": [
    {
     "data": {
      "text/html": [
       "<div>\n",
       "<style scoped>\n",
       "    .dataframe tbody tr th:only-of-type {\n",
       "        vertical-align: middle;\n",
       "    }\n",
       "\n",
       "    .dataframe tbody tr th {\n",
       "        vertical-align: top;\n",
       "    }\n",
       "\n",
       "    .dataframe thead th {\n",
       "        text-align: right;\n",
       "    }\n",
       "</style>\n",
       "<table border=\"1\" class=\"dataframe\">\n",
       "  <thead>\n",
       "    <tr style=\"text-align: right;\">\n",
       "      <th></th>\n",
       "      <th>A</th>\n",
       "      <th>B</th>\n",
       "      <th>C</th>\n",
       "      <th>D</th>\n",
       "      <th>E</th>\n",
       "    </tr>\n",
       "  </thead>\n",
       "  <tbody>\n",
       "    <tr>\n",
       "      <th>2019-03-01</th>\n",
       "      <td>-0.516544</td>\n",
       "      <td>-1.367220</td>\n",
       "      <td>-0.676360</td>\n",
       "      <td>0.264665</td>\n",
       "      <td>NaN</td>\n",
       "    </tr>\n",
       "    <tr>\n",
       "      <th>2019-03-02</th>\n",
       "      <td>0.220002</td>\n",
       "      <td>1.297459</td>\n",
       "      <td>1.506297</td>\n",
       "      <td>0.776434</td>\n",
       "      <td>NaN</td>\n",
       "    </tr>\n",
       "    <tr>\n",
       "      <th>2019-03-03</th>\n",
       "      <td>-0.845950</td>\n",
       "      <td>-1.509673</td>\n",
       "      <td>1.220819</td>\n",
       "      <td>-0.232521</td>\n",
       "      <td>NaN</td>\n",
       "    </tr>\n",
       "    <tr>\n",
       "      <th>2019-03-04</th>\n",
       "      <td>0.519335</td>\n",
       "      <td>0.323541</td>\n",
       "      <td>-1.014116</td>\n",
       "      <td>-1.003809</td>\n",
       "      <td>NaN</td>\n",
       "    </tr>\n",
       "    <tr>\n",
       "      <th>2019-03-05</th>\n",
       "      <td>1.169528</td>\n",
       "      <td>-0.112481</td>\n",
       "      <td>0.883931</td>\n",
       "      <td>-1.101489</td>\n",
       "      <td>NaN</td>\n",
       "    </tr>\n",
       "    <tr>\n",
       "      <th>2019-03-06</th>\n",
       "      <td>0.761931</td>\n",
       "      <td>-0.053532</td>\n",
       "      <td>-0.602182</td>\n",
       "      <td>1.027294</td>\n",
       "      <td>NaN</td>\n",
       "    </tr>\n",
       "  </tbody>\n",
       "</table>\n",
       "</div>"
      ],
      "text/plain": [
       "                   A         B         C         D   E\n",
       "2019-03-01 -0.516544 -1.367220 -0.676360  0.264665 NaN\n",
       "2019-03-02  0.220002  1.297459  1.506297  0.776434 NaN\n",
       "2019-03-03 -0.845950 -1.509673  1.220819 -0.232521 NaN\n",
       "2019-03-04  0.519335  0.323541 -1.014116 -1.003809 NaN\n",
       "2019-03-05  1.169528 -0.112481  0.883931 -1.101489 NaN\n",
       "2019-03-06  0.761931 -0.053532 -0.602182  1.027294 NaN"
      ]
     },
     "execution_count": 36,
     "metadata": {},
     "output_type": "execute_result"
    }
   ],
   "source": [
    "df['E'] = np.nan\n",
    "df"
   ]
  },
  {
   "cell_type": "code",
   "execution_count": 37,
   "metadata": {},
   "outputs": [
    {
     "data": {
      "text/html": [
       "<div>\n",
       "<style scoped>\n",
       "    .dataframe tbody tr th:only-of-type {\n",
       "        vertical-align: middle;\n",
       "    }\n",
       "\n",
       "    .dataframe tbody tr th {\n",
       "        vertical-align: top;\n",
       "    }\n",
       "\n",
       "    .dataframe thead th {\n",
       "        text-align: right;\n",
       "    }\n",
       "</style>\n",
       "<table border=\"1\" class=\"dataframe\">\n",
       "  <thead>\n",
       "    <tr style=\"text-align: right;\">\n",
       "      <th></th>\n",
       "      <th>A</th>\n",
       "      <th>B</th>\n",
       "      <th>C</th>\n",
       "      <th>D</th>\n",
       "      <th>E</th>\n",
       "    </tr>\n",
       "  </thead>\n",
       "  <tbody>\n",
       "    <tr>\n",
       "      <th>2019-03-01</th>\n",
       "      <td>-0.516544</td>\n",
       "      <td>-1.367220</td>\n",
       "      <td>-0.676360</td>\n",
       "      <td>0.264665</td>\n",
       "      <td>NaN</td>\n",
       "    </tr>\n",
       "    <tr>\n",
       "      <th>2019-03-02</th>\n",
       "      <td>0.220002</td>\n",
       "      <td>1.297459</td>\n",
       "      <td>1.506297</td>\n",
       "      <td>0.776434</td>\n",
       "      <td>2.0</td>\n",
       "    </tr>\n",
       "    <tr>\n",
       "      <th>2019-03-03</th>\n",
       "      <td>-0.845950</td>\n",
       "      <td>-1.509673</td>\n",
       "      <td>1.220819</td>\n",
       "      <td>-0.232521</td>\n",
       "      <td>NaN</td>\n",
       "    </tr>\n",
       "    <tr>\n",
       "      <th>2019-03-04</th>\n",
       "      <td>0.519335</td>\n",
       "      <td>0.323541</td>\n",
       "      <td>-1.014116</td>\n",
       "      <td>-1.003809</td>\n",
       "      <td>NaN</td>\n",
       "    </tr>\n",
       "    <tr>\n",
       "      <th>2019-03-05</th>\n",
       "      <td>1.169528</td>\n",
       "      <td>-0.112481</td>\n",
       "      <td>0.883931</td>\n",
       "      <td>-1.101489</td>\n",
       "      <td>NaN</td>\n",
       "    </tr>\n",
       "    <tr>\n",
       "      <th>2019-03-06</th>\n",
       "      <td>0.761931</td>\n",
       "      <td>-0.053532</td>\n",
       "      <td>-0.602182</td>\n",
       "      <td>1.027294</td>\n",
       "      <td>NaN</td>\n",
       "    </tr>\n",
       "  </tbody>\n",
       "</table>\n",
       "</div>"
      ],
      "text/plain": [
       "                   A         B         C         D    E\n",
       "2019-03-01 -0.516544 -1.367220 -0.676360  0.264665  NaN\n",
       "2019-03-02  0.220002  1.297459  1.506297  0.776434  2.0\n",
       "2019-03-03 -0.845950 -1.509673  1.220819 -0.232521  NaN\n",
       "2019-03-04  0.519335  0.323541 -1.014116 -1.003809  NaN\n",
       "2019-03-05  1.169528 -0.112481  0.883931 -1.101489  NaN\n",
       "2019-03-06  0.761931 -0.053532 -0.602182  1.027294  NaN"
      ]
     },
     "execution_count": 37,
     "metadata": {},
     "output_type": "execute_result"
    }
   ],
   "source": [
    "df.loc['2019-03-02', ['E']] = 2\n",
    "df"
   ]
  },
  {
   "cell_type": "code",
   "execution_count": 38,
   "metadata": {},
   "outputs": [
    {
     "data": {
      "text/html": [
       "<div>\n",
       "<style scoped>\n",
       "    .dataframe tbody tr th:only-of-type {\n",
       "        vertical-align: middle;\n",
       "    }\n",
       "\n",
       "    .dataframe tbody tr th {\n",
       "        vertical-align: top;\n",
       "    }\n",
       "\n",
       "    .dataframe thead th {\n",
       "        text-align: right;\n",
       "    }\n",
       "</style>\n",
       "<table border=\"1\" class=\"dataframe\">\n",
       "  <thead>\n",
       "    <tr style=\"text-align: right;\">\n",
       "      <th></th>\n",
       "      <th>A</th>\n",
       "      <th>B</th>\n",
       "      <th>C</th>\n",
       "      <th>D</th>\n",
       "      <th>E</th>\n",
       "      <th>F</th>\n",
       "    </tr>\n",
       "  </thead>\n",
       "  <tbody>\n",
       "    <tr>\n",
       "      <th>2019-03-01</th>\n",
       "      <td>-0.516544</td>\n",
       "      <td>-1.367220</td>\n",
       "      <td>-0.676360</td>\n",
       "      <td>0.264665</td>\n",
       "      <td>NaN</td>\n",
       "      <td>-1.883763</td>\n",
       "    </tr>\n",
       "    <tr>\n",
       "      <th>2019-03-02</th>\n",
       "      <td>0.220002</td>\n",
       "      <td>1.297459</td>\n",
       "      <td>1.506297</td>\n",
       "      <td>0.776434</td>\n",
       "      <td>2.0</td>\n",
       "      <td>1.517461</td>\n",
       "    </tr>\n",
       "    <tr>\n",
       "      <th>2019-03-03</th>\n",
       "      <td>-0.845950</td>\n",
       "      <td>-1.509673</td>\n",
       "      <td>1.220819</td>\n",
       "      <td>-0.232521</td>\n",
       "      <td>NaN</td>\n",
       "      <td>-2.355623</td>\n",
       "    </tr>\n",
       "    <tr>\n",
       "      <th>2019-03-04</th>\n",
       "      <td>0.519335</td>\n",
       "      <td>0.323541</td>\n",
       "      <td>-1.014116</td>\n",
       "      <td>-1.003809</td>\n",
       "      <td>NaN</td>\n",
       "      <td>0.842875</td>\n",
       "    </tr>\n",
       "    <tr>\n",
       "      <th>2019-03-05</th>\n",
       "      <td>1.169528</td>\n",
       "      <td>-0.112481</td>\n",
       "      <td>0.883931</td>\n",
       "      <td>-1.101489</td>\n",
       "      <td>NaN</td>\n",
       "      <td>1.057047</td>\n",
       "    </tr>\n",
       "    <tr>\n",
       "      <th>2019-03-06</th>\n",
       "      <td>0.761931</td>\n",
       "      <td>-0.053532</td>\n",
       "      <td>-0.602182</td>\n",
       "      <td>1.027294</td>\n",
       "      <td>NaN</td>\n",
       "      <td>0.708399</td>\n",
       "    </tr>\n",
       "  </tbody>\n",
       "</table>\n",
       "</div>"
      ],
      "text/plain": [
       "                   A         B         C         D    E         F\n",
       "2019-03-01 -0.516544 -1.367220 -0.676360  0.264665  NaN -1.883763\n",
       "2019-03-02  0.220002  1.297459  1.506297  0.776434  2.0  1.517461\n",
       "2019-03-03 -0.845950 -1.509673  1.220819 -0.232521  NaN -2.355623\n",
       "2019-03-04  0.519335  0.323541 -1.014116 -1.003809  NaN  0.842875\n",
       "2019-03-05  1.169528 -0.112481  0.883931 -1.101489  NaN  1.057047\n",
       "2019-03-06  0.761931 -0.053532 -0.602182  1.027294  NaN  0.708399"
      ]
     },
     "execution_count": 38,
     "metadata": {},
     "output_type": "execute_result"
    }
   ],
   "source": [
    "df['F'] = df['A'] + df['B']\n",
    "df"
   ]
  },
  {
   "cell_type": "code",
   "execution_count": null,
   "metadata": {},
   "outputs": [],
   "source": []
  }
 ],
 "metadata": {
  "kernelspec": {
   "display_name": "Python 3",
   "language": "python",
   "name": "python3"
  },
  "language_info": {
   "codemirror_mode": {
    "name": "ipython",
    "version": 3
   },
   "file_extension": ".py",
   "mimetype": "text/x-python",
   "name": "python",
   "nbconvert_exporter": "python",
   "pygments_lexer": "ipython3",
   "version": "3.8.3"
  }
 },
 "nbformat": 4,
 "nbformat_minor": 4
}
