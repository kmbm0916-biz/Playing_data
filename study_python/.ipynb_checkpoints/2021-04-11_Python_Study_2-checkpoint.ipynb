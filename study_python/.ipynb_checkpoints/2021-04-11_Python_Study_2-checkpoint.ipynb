{
 "cells": [
  {
   "cell_type": "code",
   "execution_count": 1,
   "id": "2f04af63",
   "metadata": {},
   "outputs": [],
   "source": [
    "import urllib.request\n",
    "client_id = \"oCZmcUzHXHfOfqS4JGXA\"\n",
    "client_secret = \"JnwxLxTPXU\""
   ]
  },
  {
   "cell_type": "code",
   "execution_count": 3,
   "id": "944867bd",
   "metadata": {},
   "outputs": [
    {
     "data": {
      "text/plain": [
       "'https://openapi.naver.com/v1/search/blog.json?query=pinkwink'"
      ]
     },
     "execution_count": 3,
     "metadata": {},
     "output_type": "execute_result"
    }
   ],
   "source": [
    "encText = urllib.parse.quote(\"pinkwink\")\n",
    "url = \"https://openapi.naver.com/v1/search/blog.json?query=\" + encText\n",
    "url"
   ]
  },
  {
   "cell_type": "code",
   "execution_count": 6,
   "id": "1202cdbe",
   "metadata": {},
   "outputs": [],
   "source": [
    "request = urllib.request.Request(url)\n",
    "request.add_header(\"X-Naver-Client-Id\", client_id)\n",
    "request.add_header(\"X-Naver-Client-Secret\", client_secret)"
   ]
  },
  {
   "cell_type": "code",
   "execution_count": 7,
   "id": "675114ed",
   "metadata": {},
   "outputs": [
    {
     "name": "stdout",
     "output_type": "stream",
     "text": [
      "200\n"
     ]
    }
   ],
   "source": [
    "response = urllib.request.urlopen(request)\n",
    "print(response.getcode())"
   ]
  },
  {
   "cell_type": "code",
   "execution_count": 8,
   "id": "11c9527d",
   "metadata": {},
   "outputs": [
    {
     "data": {
      "text/plain": [
       "http.client.HTTPResponse"
      ]
     },
     "execution_count": 8,
     "metadata": {},
     "output_type": "execute_result"
    }
   ],
   "source": [
    "type(response)"
   ]
  },
  {
   "cell_type": "code",
   "execution_count": 9,
   "id": "fd483961",
   "metadata": {},
   "outputs": [
    {
     "name": "stdout",
     "output_type": "stream",
     "text": [
      "{\n",
      "\"lastBuildDate\": \"Sun, 11 Apr 2021 21:28:32 +0900\",\n",
      "\"total\": 2186,\n",
      "\"start\": 1,\n",
      "\"display\": 10,\n",
      "\"items\": [\n",
      "{\n",
      "\"title\": \"<b>PinkWink</b>님의 DC모터 시정수 구하기.\",\n",
      "\"link\": \"https:\\/\\/blog.naver.com\\/hjh2578?Redirect=Log&logNo=222172280836\",\n",
      "\"description\": \"현재 밸런싱 봇 제작에 난항을 겪고 있어 해당 시정수를 측정하기 위한 방법을 구글링 해두었음 https://<b>pinkwink</b>.kr/336 현재 갖고 있는 밸런싱봇에는 MCP4922라는 DA컨버터를 별도로 설계하여... \",\n",
      "\"bloggername\": \"닥현의 회로연구\",\n",
      "\"bloggerlink\": \"https://blog.naver.com/hjh2578\",\n",
      "\"postdate\": \"20201213\"\n",
      "\n",
      "},\n",
      "{\n",
      "\"title\": \"<b>PinkWink</b> 블로그에서 온 선물..\",\n",
      "\"link\": \"https:\\/\\/blog.naver.com\\/chandong83?Redirect=Log&logNo=221531853244\",\n",
      "\"description\": \"국내 최고 아이티 블로그인 <b>PinkWink</b> 블로거이신 민형기 박사님께서 선물을 보내주셨다~ 크.. 이런 영광이!!!! 잘 쓰겠습니다~ 박사님!!! 나도 나중에 블로그 잘 운영해서 이런 선물도 나눠줘 보고 싶다~~ㅋ 요즘... \",\n",
      "\"bloggername\": \"하이! 제니스\",\n",
      "\"bloggerlink\": \"https://blog.naver.com/chandong83\",\n",
      "\"postdate\": \"20190507\"\n",
      "\n",
      "},\n",
      "{\n",
      "\"title\": \"자료 주소, <b>PinkWink</b>, DataScience; 시카고 샌드위치 맛집 주소\",\n",
      "\"link\": \"https:\\/\\/blog.naver.com\\/neobk2019?Redirect=Log&logNo=222090851064\",\n",
      "\"description\": \"책(파이썬으로 데이터 주무르기) 내용 자료 주소, <b>PinkWink</b>, DataScience #3장 #시카고 #샌드위치 #맛집 #분석 #주소 - 교재 발간당시와 현재의 웹페이지가 바뀌어서, 교재에... \",\n",
      "\"bloggername\": \"(비케이) 배우고 익히는 즐거움\",\n",
      "\"bloggerlink\": \"https://blog.naver.com/neobk2019\",\n",
      "\"postdate\": \"20200916\"\n",
      "\n",
      "},\n",
      "{\n",
      "\"title\": \"Project -ing) <b>PinkWink</b> (핑크윙크) 쇼핑몰 브랜드 로고디자인... \",\n",
      "\"link\": \"https:\\/\\/blog.naver.com\\/honggraphic?Redirect=Log&logNo=221880867448\",\n",
      "\"description\": \"한국브랜드에 대한 위상이 높아지고 있는 요즘, K를 강조한 브랜드 개발 요청이 많아지고 있습니다. 이번 프로젝트는 쇼핑몰 브랜드로 베트남과 말레이시아 등의 수출을 목표로 한류 열풍을 이어나갈... \",\n",
      "\"bloggername\": \"홍그래픽\",\n",
      "\"bloggerlink\": \"https://blog.naver.com/honggraphic\",\n",
      "\"postdate\": \"20200330\"\n",
      "\n",
      "},\n",
      "{\n",
      "\"title\": \"<b>PinkWink</b>가 좋아하는 전자기기들을 소개합니다 ~~ ^^\",\n",
      "\"link\": \"https://pinkwink.kr/701\",\n",
      "\"description\": \"그리고 저 <b>PinkWink</b>도 이제 마흔이 되었답니다.ㅠㅠ. 에휴.. 마흔... 뭐 한국 나이는 두 종류이고.. 아직... 저 <b>PinkWink</b>가 2012년 가을에 결혼을 했었는데요..[ 바로가기 ] 늦은 결혼이었지요^^ 그때 저는 신혼여행에서... \",\n",
      "\"bloggername\": \"PinkWink\",\n",
      "\"bloggerlink\": \"https://pinkwink.kr/\",\n",
      "\"postdate\": \"20150108\"\n",
      "\n",
      "},\n",
      "{\n",
      "\"title\": \"[공유] <b>PinkWink</b> :: Python에서 OpenCV를 이용해서... \",\n",
      "\"link\": \"https:\\/\\/blog.naver.com\\/hersheythings?Redirect=Log&logNo=222221161855\",\n",
      "\"description\": \"<b>PinkWink</b> :: Python에서 OpenCV를 이용해서 초간편하게 사람 얼굴, 몸을 인식하기\",\n",
      "\"bloggername\": \"허씨 이야기\",\n",
      "\"bloggerlink\": \"https://blog.naver.com/hersheythings\",\n",
      "\"postdate\": \"20210127\"\n",
      "\n",
      "},\n",
      "{\n",
      "\"title\": \"[공유] <b>PinkWink</b> :: 저역통과필터와 고역통과필터를 C로 구현\",\n",
      "\"link\": \"https:\\/\\/blog.naver.com\\/kangusreport?Redirect=Log&logNo=221870399107\",\n",
      "\"description\": \"<b>PinkWink</b> :: 저역통과필터와 고역통과필터를 C로 구현\",\n",
      "\"bloggername\": \"Dex Note\",\n",
      "\"bloggerlink\": \"https://blog.naver.com/kangusreport\",\n",
      "\"postdate\": \"20200324\"\n",
      "\n",
      "},\n",
      "{\n",
      "\"title\": \"[<b>pinkwink</b>님-구매후기]\",\n",
      "\"link\": \"https:\\/\\/blog.naver.com\\/monetchou?Redirect=Log&logNo=150182740062\",\n",
      "\"description\": \"친구들 중에 강아지 키우는 아이들에겐 연말선물로 강아지옷선물했는데. 이옷너무 이쁘다고.맘에 든다고 해주어서 저도 으쓱해졌습니다. 옷입고 포즈도 잘취해주고.귀엽죠? 덕분에...저... \",\n",
      "\"bloggername\": \"몽에슈\",\n",
      "\"bloggerlink\": \"https://blog.naver.com/monetchou\",\n",
      "\"postdate\": \"20140110\"\n",
      "\n",
      "},\n",
      "{\n",
      "\"title\": \"<b>PinkWink</b> :: 정보를 담고 있는 좌표계에 회전행렬을 적용하는... \",\n",
      "\"link\": \"https://blog.daum.net/knightofelf/42100\",\n",
      "\"description\": \"<b>PinkWink</b> :: 정보를 담고 있는 좌표계에 회전행렬을 적용하는 방법 http://<b>pinkwink</b>.kr/404 공유하기 글 요소 저작자표시 사업자 정보 표시 | | | 사업자 등록번호 : -- | TEL : -- | 사이버몰의 이용약관... \",\n",
      "\"bloggername\": \"knight of elf - 애들은 잘놀아\",\n",
      "\"bloggerlink\": \"https://blog.daum.net/knightofelf\",\n",
      "\"postdate\": \"20190930\"\n",
      "\n",
      "},\n",
      "{\n",
      "\"title\": \"[공유] <b>PinkWink</b> :: 맥에서 윈도우용(NTFS) 외장하드에 파일... \",\n",
      "\"link\": \"https:\\/\\/blog.naver.com\\/sonidda?Redirect=Log&logNo=221722293907\",\n",
      "\"description\": \"<b>PinkWink</b> :: 맥에서 윈도우용(NTFS) 외장하드에 파일 복사/쓰기 가능하게 해주는 Mounty\",\n",
      "\"bloggername\": \"손스의 소소한 기록들\",\n",
      "\"bloggerlink\": \"https://blog.naver.com/sonidda\",\n",
      "\"postdate\": \"20191129\"\n",
      "\n",
      "}\n",
      "]\n",
      "}\n",
      "\n"
     ]
    }
   ],
   "source": [
    "print(response.read().decode('utf-8'))"
   ]
  },
  {
   "cell_type": "code",
   "execution_count": 10,
   "id": "77e16947",
   "metadata": {},
   "outputs": [
    {
     "name": "stdout",
     "output_type": "stream",
     "text": [
      "1\n",
      "2\n",
      "3\n"
     ]
    }
   ],
   "source": [
    "for n in [1, 2, 3]:\n",
    "    print(n)"
   ]
  },
  {
   "cell_type": "code",
   "execution_count": 11,
   "id": "efddb854",
   "metadata": {},
   "outputs": [
    {
     "name": "stdout",
     "output_type": "stream",
     "text": [
      "1\n",
      "4\n",
      "9\n",
      "16\n",
      "25\n"
     ]
    }
   ],
   "source": [
    "for n in [1, 2, 3, 4, 5]:\n",
    "    print(n ** 2)"
   ]
  },
  {
   "cell_type": "code",
   "execution_count": 12,
   "id": "93f827c4",
   "metadata": {},
   "outputs": [
    {
     "data": {
      "text/plain": [
       "[1, 4, 9, 16, 25]"
      ]
     },
     "execution_count": 12,
     "metadata": {},
     "output_type": "execute_result"
    }
   ],
   "source": [
    "[n**2 for n in range(1, 6)]"
   ]
  },
  {
   "cell_type": "code",
   "execution_count": 13,
   "id": "67c95244",
   "metadata": {},
   "outputs": [],
   "source": [
    "def get_square(n):\n",
    "    return n**2"
   ]
  },
  {
   "cell_type": "code",
   "execution_count": 14,
   "id": "9e3cd6bf",
   "metadata": {},
   "outputs": [
    {
     "data": {
      "text/plain": [
       "[1, 4, 9, 16]"
      ]
     },
     "execution_count": 14,
     "metadata": {},
     "output_type": "execute_result"
    }
   ],
   "source": [
    "[get_square(n) for n in [1, 2, 3, 4]]"
   ]
  },
  {
   "cell_type": "code",
   "execution_count": 15,
   "id": "6ecfe73b",
   "metadata": {},
   "outputs": [],
   "source": [
    "def create_url(api_node, search_test, start_num, disp_num):\n",
    "    base = \"https://openapi.naver.com/v1/search\"\n",
    "    node = \"/\" + api_node + \".json\"\n",
    "    param_query = \"?query=\" + urllib.parse.quote(search_test)\n",
    "    param_start = \"&start=\" + str(start_num)\n",
    "    param_disp = \"&display=\" + str(disp_num)\n",
    "    \n",
    "    return base + node + param_query + param_start + param_disp"
   ]
  },
  {
   "cell_type": "code",
   "execution_count": 16,
   "id": "ba9c1d37",
   "metadata": {},
   "outputs": [
    {
     "data": {
      "text/plain": [
       "'https://openapi.naver.com/v1/search/book.json?query=TEST&start=1&display=10'"
      ]
     },
     "execution_count": 16,
     "metadata": {},
     "output_type": "execute_result"
    }
   ],
   "source": [
    "create_url(\"book\", \"TEST\", 1, 10)"
   ]
  },
  {
   "cell_type": "code",
   "execution_count": 17,
   "id": "5eba9893",
   "metadata": {},
   "outputs": [
    {
     "data": {
      "text/plain": [
       "{'lastBuildDate': 'Sun, 11 Apr 2021 21:39:05 +0900',\n",
       " 'total': 1264,\n",
       " 'start': 1,\n",
       " 'display': 3,\n",
       " 'items': [{'title': '이것이 취업을 위한 코딩 테스트다 with <b>파이썬</b> (취업과 이직을 결정하는 알고리즘 인터뷰 완벽 가이드, C/C++, 자바 코드 제공)',\n",
       "   'link': 'http://book.naver.com/bookdb/book_detail.php?bid=16439154',\n",
       "   'image': 'https://bookthumb-phinf.pstatic.net/cover/164/391/16439154.jpg?type=m1&udate=20200928',\n",
       "   'author': '나동빈',\n",
       "   'price': '34000',\n",
       "   'discount': '30600',\n",
       "   'publisher': '한빛미디어',\n",
       "   'pubdate': '20200805',\n",
       "   'isbn': '1162243074 9791162243077',\n",
       "   'description': '8가지 핵심 알고리즘 이론을 쉽게 설명하고, 관련 실전 문제를 풀이했다. 출제 유형 분석, 이론 설명, 기출문제 풀이까지! 어떤 코딩 테스트도 이 책 한 권으로 대비할 수 있을 것이다. 코딩 테스트에서 주로 선택하는 <b>파이썬</b>을 기반으로 설명되어 있으며, <b>파이썬</b> 코드 외에도 C/C++, 자바 코드를 추가로 제공한다.'},\n",
       "  {'title': '<b>파이썬</b> 알고리즘 인터뷰 (95가지 알고리즘 문제 풀이로 완성하는 코딩 테스트)',\n",
       "   'link': 'http://book.naver.com/bookdb/book_detail.php?bid=16406247',\n",
       "   'image': 'https://bookthumb-phinf.pstatic.net/cover/164/062/16406247.jpg?type=m1&udate=20201028',\n",
       "   'author': '박상길',\n",
       "   'price': '38000',\n",
       "   'discount': '34200',\n",
       "   'publisher': '책만',\n",
       "   'pubdate': '20200715',\n",
       "   'isbn': '1189909170 9791189909178',\n",
       "   'description': '물론, <b>파이썬</b>으로 구현하는 코드 풀이를 통해 성능 최적화 기법, <b>파이썬</b>의 핵심 문법과 다양한 실용 테크닉까지 배울 수 있는, 초보 개발자와 숙련 개발자... 이 책은 현업과 실무에 유용한 주요 알고리즘 이론을 깊숙이 이해하고, <b>파이썬</b>의 핵심 기능과 문법까지 상세하게 이해할 수 있는 취업용 코딩 테스트를... '},\n",
       "  {'title': '혼자 공부하는 <b>파이썬</b> (<b>파이썬</b> 최신 버전 반영)',\n",
       "   'link': 'http://book.naver.com/bookdb/book_detail.php?bid=15028688',\n",
       "   'image': 'https://bookthumb-phinf.pstatic.net/cover/150/286/15028688.jpg?type=m1&udate=20210127',\n",
       "   'author': '윤인성',\n",
       "   'price': '18000',\n",
       "   'discount': '16200',\n",
       "   'publisher': '한빛미디어',\n",
       "   'pubdate': '20190610',\n",
       "   'isbn': '1162241888 9791162241882',\n",
       "   'description': '1:1 과외하듯 배우는 <b>파이썬</b> 프로그래밍 자습서(<b>파이썬</b> 최신 버전 반영)\\n27명의 베타리더 검증으로, ‘함께 만든’ 입문자 맞춤형 도서이 책은 독학으로 프로그래밍 언어를 처음 배우려는 입문자가, 혹은 <b>파이썬</b>을 배우려는 입문자가 ‘꼭 필요한 내용을 제대로’ 학습할 수 있도록 구성했다. ‘무엇을’... '}]}"
      ]
     },
     "execution_count": 17,
     "metadata": {},
     "output_type": "execute_result"
    }
   ],
   "source": [
    "import json\n",
    "\n",
    "client_id = \"oCZmcUzHXHfOfqS4JGXA\"\n",
    "client_secret = \"JnwxLxTPXU\"\n",
    "\n",
    "url = create_url(\"book\", \"파이썬\", 1, 3)\n",
    "\n",
    "request = urllib.request.Request(url)\n",
    "request.add_header(\"X-Naver-Client-Id\", client_id)\n",
    "request.add_header(\"X-Naver-Client-Secret\", client_secret)\n",
    "\n",
    "response = urllib.request.urlopen(request)\n",
    "\n",
    "result = json.loads(response.read().decode('utf-8'))\n",
    "result"
   ]
  },
  {
   "cell_type": "code",
   "execution_count": 18,
   "id": "becefe6b",
   "metadata": {},
   "outputs": [
    {
     "data": {
      "text/plain": [
       "3"
      ]
     },
     "execution_count": 18,
     "metadata": {},
     "output_type": "execute_result"
    }
   ],
   "source": [
    "result['display']"
   ]
  },
  {
   "cell_type": "code",
   "execution_count": 19,
   "id": "c861730b",
   "metadata": {},
   "outputs": [
    {
     "data": {
      "text/plain": [
       "[{'title': '이것이 취업을 위한 코딩 테스트다 with <b>파이썬</b> (취업과 이직을 결정하는 알고리즘 인터뷰 완벽 가이드, C/C++, 자바 코드 제공)',\n",
       "  'link': 'http://book.naver.com/bookdb/book_detail.php?bid=16439154',\n",
       "  'image': 'https://bookthumb-phinf.pstatic.net/cover/164/391/16439154.jpg?type=m1&udate=20200928',\n",
       "  'author': '나동빈',\n",
       "  'price': '34000',\n",
       "  'discount': '30600',\n",
       "  'publisher': '한빛미디어',\n",
       "  'pubdate': '20200805',\n",
       "  'isbn': '1162243074 9791162243077',\n",
       "  'description': '8가지 핵심 알고리즘 이론을 쉽게 설명하고, 관련 실전 문제를 풀이했다. 출제 유형 분석, 이론 설명, 기출문제 풀이까지! 어떤 코딩 테스트도 이 책 한 권으로 대비할 수 있을 것이다. 코딩 테스트에서 주로 선택하는 <b>파이썬</b>을 기반으로 설명되어 있으며, <b>파이썬</b> 코드 외에도 C/C++, 자바 코드를 추가로 제공한다.'},\n",
       " {'title': '<b>파이썬</b> 알고리즘 인터뷰 (95가지 알고리즘 문제 풀이로 완성하는 코딩 테스트)',\n",
       "  'link': 'http://book.naver.com/bookdb/book_detail.php?bid=16406247',\n",
       "  'image': 'https://bookthumb-phinf.pstatic.net/cover/164/062/16406247.jpg?type=m1&udate=20201028',\n",
       "  'author': '박상길',\n",
       "  'price': '38000',\n",
       "  'discount': '34200',\n",
       "  'publisher': '책만',\n",
       "  'pubdate': '20200715',\n",
       "  'isbn': '1189909170 9791189909178',\n",
       "  'description': '물론, <b>파이썬</b>으로 구현하는 코드 풀이를 통해 성능 최적화 기법, <b>파이썬</b>의 핵심 문법과 다양한 실용 테크닉까지 배울 수 있는, 초보 개발자와 숙련 개발자... 이 책은 현업과 실무에 유용한 주요 알고리즘 이론을 깊숙이 이해하고, <b>파이썬</b>의 핵심 기능과 문법까지 상세하게 이해할 수 있는 취업용 코딩 테스트를... '},\n",
       " {'title': '혼자 공부하는 <b>파이썬</b> (<b>파이썬</b> 최신 버전 반영)',\n",
       "  'link': 'http://book.naver.com/bookdb/book_detail.php?bid=15028688',\n",
       "  'image': 'https://bookthumb-phinf.pstatic.net/cover/150/286/15028688.jpg?type=m1&udate=20210127',\n",
       "  'author': '윤인성',\n",
       "  'price': '18000',\n",
       "  'discount': '16200',\n",
       "  'publisher': '한빛미디어',\n",
       "  'pubdate': '20190610',\n",
       "  'isbn': '1162241888 9791162241882',\n",
       "  'description': '1:1 과외하듯 배우는 <b>파이썬</b> 프로그래밍 자습서(<b>파이썬</b> 최신 버전 반영)\\n27명의 베타리더 검증으로, ‘함께 만든’ 입문자 맞춤형 도서이 책은 독학으로 프로그래밍 언어를 처음 배우려는 입문자가, 혹은 <b>파이썬</b>을 배우려는 입문자가 ‘꼭 필요한 내용을 제대로’ 학습할 수 있도록 구성했다. ‘무엇을’... '}]"
      ]
     },
     "execution_count": 19,
     "metadata": {},
     "output_type": "execute_result"
    }
   ],
   "source": [
    "result['items']"
   ]
  },
  {
   "cell_type": "code",
   "execution_count": 20,
   "id": "a2d090a2",
   "metadata": {},
   "outputs": [
    {
     "data": {
      "text/plain": [
       "3"
      ]
     },
     "execution_count": 20,
     "metadata": {},
     "output_type": "execute_result"
    }
   ],
   "source": [
    "len(result['items'])"
   ]
  },
  {
   "cell_type": "code",
   "execution_count": 21,
   "id": "0a81fa93",
   "metadata": {},
   "outputs": [
    {
     "data": {
      "text/plain": [
       "['이것이 취업을 위한 코딩 테스트다 with <b>파이썬</b> (취업과 이직을 결정하는 알고리즘 인터뷰 완벽 가이드, C/C++, 자바 코드 제공)',\n",
       " '<b>파이썬</b> 알고리즘 인터뷰 (95가지 알고리즘 문제 풀이로 완성하는 코딩 테스트)',\n",
       " '혼자 공부하는 <b>파이썬</b> (<b>파이썬</b> 최신 버전 반영)']"
      ]
     },
     "execution_count": 21,
     "metadata": {},
     "output_type": "execute_result"
    }
   ],
   "source": [
    "titles = [result['items'][n]['title'] for n in range(3)]\n",
    "titles"
   ]
  },
  {
   "cell_type": "code",
   "execution_count": 22,
   "id": "9bd769e9",
   "metadata": {},
   "outputs": [
    {
     "data": {
      "text/plain": [
       "['나동빈', '박상길', '윤인성']"
      ]
     },
     "execution_count": 22,
     "metadata": {},
     "output_type": "execute_result"
    }
   ],
   "source": [
    "authors = [result['items'][n]['author'] for n in range(3)]\n",
    "authors"
   ]
  },
  {
   "cell_type": "code",
   "execution_count": 23,
   "id": "eb6383cc",
   "metadata": {},
   "outputs": [
    {
     "data": {
      "text/plain": [
       "['20200805', '20200715', '20190610']"
      ]
     },
     "execution_count": 23,
     "metadata": {},
     "output_type": "execute_result"
    }
   ],
   "source": [
    "pubdates = [result['items'][n]['pubdate'] for n in range(3)]\n",
    "pubdates"
   ]
  },
  {
   "cell_type": "code",
   "execution_count": 24,
   "id": "f99b5df8",
   "metadata": {},
   "outputs": [
    {
     "data": {
      "text/html": [
       "<div>\n",
       "<style scoped>\n",
       "    .dataframe tbody tr th:only-of-type {\n",
       "        vertical-align: middle;\n",
       "    }\n",
       "\n",
       "    .dataframe tbody tr th {\n",
       "        vertical-align: top;\n",
       "    }\n",
       "\n",
       "    .dataframe thead th {\n",
       "        text-align: right;\n",
       "    }\n",
       "</style>\n",
       "<table border=\"1\" class=\"dataframe\">\n",
       "  <thead>\n",
       "    <tr style=\"text-align: right;\">\n",
       "      <th></th>\n",
       "      <th>책제목</th>\n",
       "      <th>작가</th>\n",
       "      <th>출판일</th>\n",
       "    </tr>\n",
       "  </thead>\n",
       "  <tbody>\n",
       "    <tr>\n",
       "      <th>0</th>\n",
       "      <td>이것이 취업을 위한 코딩 테스트다 with &lt;b&gt;파이썬&lt;/b&gt; (취업과 이직을 결정...</td>\n",
       "      <td>나동빈</td>\n",
       "      <td>20200805</td>\n",
       "    </tr>\n",
       "    <tr>\n",
       "      <th>1</th>\n",
       "      <td>&lt;b&gt;파이썬&lt;/b&gt; 알고리즘 인터뷰 (95가지 알고리즘 문제 풀이로 완성하는 코딩 ...</td>\n",
       "      <td>박상길</td>\n",
       "      <td>20200715</td>\n",
       "    </tr>\n",
       "    <tr>\n",
       "      <th>2</th>\n",
       "      <td>혼자 공부하는 &lt;b&gt;파이썬&lt;/b&gt; (&lt;b&gt;파이썬&lt;/b&gt; 최신 버전 반영)</td>\n",
       "      <td>윤인성</td>\n",
       "      <td>20190610</td>\n",
       "    </tr>\n",
       "  </tbody>\n",
       "</table>\n",
       "</div>"
      ],
      "text/plain": [
       "                                                 책제목   작가       출판일\n",
       "0  이것이 취업을 위한 코딩 테스트다 with <b>파이썬</b> (취업과 이직을 결정...  나동빈  20200805\n",
       "1  <b>파이썬</b> 알고리즘 인터뷰 (95가지 알고리즘 문제 풀이로 완성하는 코딩 ...  박상길  20200715\n",
       "2           혼자 공부하는 <b>파이썬</b> (<b>파이썬</b> 최신 버전 반영)  윤인성  20190610"
      ]
     },
     "execution_count": 24,
     "metadata": {},
     "output_type": "execute_result"
    }
   ],
   "source": [
    "import pandas as pd\n",
    "\n",
    "pd.DataFrame({'책제목' : titles, '작가' : authors, '출판일' : pubdates})"
   ]
  },
  {
   "cell_type": "code",
   "execution_count": 29,
   "id": "1067d208",
   "metadata": {},
   "outputs": [],
   "source": [
    "def get_dataframe(url):\n",
    "    client_id = \"oCZmcUzHXHfOfqS4JGXA\"\n",
    "    client_secret = \"JnwxLxTPXU\"\n",
    "    \n",
    "    request = urllib.request.Request(url)\n",
    "    request.add_header(\"X-Naver-Client-Id\", client_id)\n",
    "    request.add_header(\"X-Naver-Client-Secret\", client_secret)\n",
    "    \n",
    "    response = urllib.request.urlopen(request)\n",
    "    \n",
    "    result = json.loads(response.read().decode('utf-8'))\n",
    "    \n",
    "    end_num = result['display']\n",
    "    \n",
    "    titles = [result['items'][n]['title'] for n in range(end_num)]\n",
    "    authors = [result['items'][n]['author'] for n in range(end_num)]\n",
    "    pubdates = [result['items'][n]['pubdate'] for n in range(end_num)]\n",
    "                                                             \n",
    "    return pd.DataFrame({'책제목' : titles, '작가' : authors, '출판일' : pubdates})"
   ]
  },
  {
   "cell_type": "code",
   "execution_count": 30,
   "id": "5b7b93a5",
   "metadata": {},
   "outputs": [
    {
     "data": {
      "text/html": [
       "<div>\n",
       "<style scoped>\n",
       "    .dataframe tbody tr th:only-of-type {\n",
       "        vertical-align: middle;\n",
       "    }\n",
       "\n",
       "    .dataframe tbody tr th {\n",
       "        vertical-align: top;\n",
       "    }\n",
       "\n",
       "    .dataframe thead th {\n",
       "        text-align: right;\n",
       "    }\n",
       "</style>\n",
       "<table border=\"1\" class=\"dataframe\">\n",
       "  <thead>\n",
       "    <tr style=\"text-align: right;\">\n",
       "      <th></th>\n",
       "      <th>책제목</th>\n",
       "      <th>작가</th>\n",
       "      <th>출판일</th>\n",
       "    </tr>\n",
       "  </thead>\n",
       "  <tbody>\n",
       "    <tr>\n",
       "      <th>0</th>\n",
       "      <td>이것이 취업을 위한 코딩 테스트다 with &lt;b&gt;파이썬&lt;/b&gt; (취업과 이직을 결정...</td>\n",
       "      <td>나동빈</td>\n",
       "      <td>20200805</td>\n",
       "    </tr>\n",
       "    <tr>\n",
       "      <th>1</th>\n",
       "      <td>&lt;b&gt;파이썬&lt;/b&gt; 알고리즘 인터뷰 (95가지 알고리즘 문제 풀이로 완성하는 코딩 ...</td>\n",
       "      <td>박상길</td>\n",
       "      <td>20200715</td>\n",
       "    </tr>\n",
       "    <tr>\n",
       "      <th>2</th>\n",
       "      <td>혼자 공부하는 &lt;b&gt;파이썬&lt;/b&gt; (&lt;b&gt;파이썬&lt;/b&gt; 최신 버전 반영)</td>\n",
       "      <td>윤인성</td>\n",
       "      <td>20190610</td>\n",
       "    </tr>\n",
       "  </tbody>\n",
       "</table>\n",
       "</div>"
      ],
      "text/plain": [
       "                                                 책제목   작가       출판일\n",
       "0  이것이 취업을 위한 코딩 테스트다 with <b>파이썬</b> (취업과 이직을 결정...  나동빈  20200805\n",
       "1  <b>파이썬</b> 알고리즘 인터뷰 (95가지 알고리즘 문제 풀이로 완성하는 코딩 ...  박상길  20200715\n",
       "2           혼자 공부하는 <b>파이썬</b> (<b>파이썬</b> 최신 버전 반영)  윤인성  20190610"
      ]
     },
     "execution_count": 30,
     "metadata": {},
     "output_type": "execute_result"
    }
   ],
   "source": [
    "get_dataframe(url)"
   ]
  },
  {
   "cell_type": "code",
   "execution_count": 31,
   "id": "c1b50a6e",
   "metadata": {},
   "outputs": [],
   "source": [
    "def delete_tag(input_str):\n",
    "    input_str = input_str.replace(\"<b>\", \"\")\n",
    "    input_str = input_str.replace(\"</b>\", \"\")\n",
    "    \n",
    "    return input_str"
   ]
  },
  {
   "cell_type": "code",
   "execution_count": 32,
   "id": "80856a35",
   "metadata": {},
   "outputs": [],
   "source": [
    "def get_dataframe(url):\n",
    "    client_id = \"oCZmcUzHXHfOfqS4JGXA\"\n",
    "    client_secret = \"JnwxLxTPXU\"\n",
    "    \n",
    "    request = urllib.request.Request(url)\n",
    "    request.add_header(\"X-Naver-Client-Id\", client_id)\n",
    "    request.add_header(\"X-Naver-Client-Secret\", client_secret)\n",
    "    \n",
    "    response = urllib.request.urlopen(request)\n",
    "    \n",
    "    result = json.loads(response.read().decode('utf-8'))\n",
    "    \n",
    "    end_num = result['display']\n",
    "    \n",
    "    titles = [delete_tag(result['items'][n]['title']) for n in range(end_num)]\n",
    "    authors = [result['items'][n]['author'] for n in range(end_num)]\n",
    "    pubdates = [result['items'][n]['pubdate'] for n in range(end_num)]\n",
    "    \n",
    "    return pd.DataFrame({'책제목' : titles, '작가' : authors, '출판일' : pubdates})"
   ]
  },
  {
   "cell_type": "code",
   "execution_count": 33,
   "id": "ba03f3b2",
   "metadata": {},
   "outputs": [
    {
     "data": {
      "text/html": [
       "<div>\n",
       "<style scoped>\n",
       "    .dataframe tbody tr th:only-of-type {\n",
       "        vertical-align: middle;\n",
       "    }\n",
       "\n",
       "    .dataframe tbody tr th {\n",
       "        vertical-align: top;\n",
       "    }\n",
       "\n",
       "    .dataframe thead th {\n",
       "        text-align: right;\n",
       "    }\n",
       "</style>\n",
       "<table border=\"1\" class=\"dataframe\">\n",
       "  <thead>\n",
       "    <tr style=\"text-align: right;\">\n",
       "      <th></th>\n",
       "      <th>책제목</th>\n",
       "      <th>작가</th>\n",
       "      <th>출판일</th>\n",
       "    </tr>\n",
       "  </thead>\n",
       "  <tbody>\n",
       "    <tr>\n",
       "      <th>0</th>\n",
       "      <td>이것이 취업을 위한 코딩 테스트다 with 파이썬 (취업과 이직을 결정하는 알고리즘...</td>\n",
       "      <td>나동빈</td>\n",
       "      <td>20200805</td>\n",
       "    </tr>\n",
       "    <tr>\n",
       "      <th>1</th>\n",
       "      <td>파이썬 알고리즘 인터뷰 (95가지 알고리즘 문제 풀이로 완성하는 코딩 테스트)</td>\n",
       "      <td>박상길</td>\n",
       "      <td>20200715</td>\n",
       "    </tr>\n",
       "    <tr>\n",
       "      <th>2</th>\n",
       "      <td>혼자 공부하는 파이썬 (파이썬 최신 버전 반영)</td>\n",
       "      <td>윤인성</td>\n",
       "      <td>20190610</td>\n",
       "    </tr>\n",
       "  </tbody>\n",
       "</table>\n",
       "</div>"
      ],
      "text/plain": [
       "                                                 책제목   작가       출판일\n",
       "0  이것이 취업을 위한 코딩 테스트다 with 파이썬 (취업과 이직을 결정하는 알고리즘...  나동빈  20200805\n",
       "1        파이썬 알고리즘 인터뷰 (95가지 알고리즘 문제 풀이로 완성하는 코딩 테스트)  박상길  20200715\n",
       "2                         혼자 공부하는 파이썬 (파이썬 최신 버전 반영)  윤인성  20190610"
      ]
     },
     "execution_count": 33,
     "metadata": {},
     "output_type": "execute_result"
    }
   ],
   "source": [
    "get_dataframe(url)"
   ]
  },
  {
   "cell_type": "code",
   "execution_count": 35,
   "id": "75891872",
   "metadata": {},
   "outputs": [
    {
     "data": {
      "text/plain": [
       "[1, 101, 201]"
      ]
     },
     "execution_count": 35,
     "metadata": {},
     "output_type": "execute_result"
    }
   ],
   "source": [
    "[n for n in range(1, 300, 100)]"
   ]
  },
  {
   "cell_type": "raw",
   "id": "4986a38c",
   "metadata": {},
   "source": []
  }
 ],
 "metadata": {
  "kernelspec": {
   "display_name": "Python 3",
   "language": "python",
   "name": "python3"
  },
  "language_info": {
   "codemirror_mode": {
    "name": "ipython",
    "version": 3
   },
   "file_extension": ".py",
   "mimetype": "text/x-python",
   "name": "python",
   "nbconvert_exporter": "python",
   "pygments_lexer": "ipython3",
   "version": "3.6.13"
  }
 },
 "nbformat": 4,
 "nbformat_minor": 5
}
